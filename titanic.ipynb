{
 "cells": [
  {
   "cell_type": "code",
   "execution_count": 64,
   "metadata": {},
   "outputs": [
    {
     "name": "stdout",
     "output_type": "stream",
     "text": [
      "The sql extension is already loaded. To reload it, use:\n",
      "  %reload_ext sql\n"
     ]
    }
   ],
   "source": [
    "%load_ext sql\n",
    "%config SqlMagic.autocommit=False # for engines that do not support autommit"
   ]
  },
  {
   "cell_type": "code",
   "execution_count": 65,
   "metadata": {},
   "outputs": [
    {
     "data": {
      "text/plain": [
       "Engine(sqlite:///temp_db.db)"
      ]
     },
     "execution_count": 65,
     "metadata": {},
     "output_type": "execute_result"
    }
   ],
   "source": [
    "from sqlalchemy import create_engine\n",
    "from sqlalchemy.ext.declarative import declarative_base\n",
    "import csv\n",
    "import pandas as pd\n",
    "\n",
    "# had issues with tables persisting using in memory \n",
    "db_connection_string = 'sqlite:///temp_db.db'\n",
    "\n",
    "Base = declarative_base()\n",
    "engine = create_engine( db_connection_string )\n",
    "Base.metadata.create_all(engine)\n",
    "\n",
    "engine"
   ]
  },
  {
   "cell_type": "code",
   "execution_count": 66,
   "metadata": {},
   "outputs": [],
   "source": [
    "# load data into tables as is \n",
    "df = pd.read_csv('./data/titanic/train.csv')\n",
    "df.to_sql(con=engine, name='train', if_exists='replace')\n",
    "\n",
    "df1 = pd.read_csv('./data/titanic/gender_submission.csv')\n",
    "df1.to_sql(con=engine, name='gender_submission', if_exists='replace')\n",
    "\n",
    "df2 = pd.read_csv('./data/titanic/test.csv')\n",
    "df2.to_sql(con=engine, name='test', if_exists='replace')\n"
   ]
  },
  {
   "cell_type": "code",
   "execution_count": 67,
   "metadata": {},
   "outputs": [
    {
     "data": {
      "text/plain": [
       "'After this cell its all SQL'"
      ]
     },
     "execution_count": 67,
     "metadata": {},
     "output_type": "execute_result"
    }
   ],
   "source": [
    "\"After this cell its all SQL\""
   ]
  },
  {
   "cell_type": "code",
   "execution_count": 68,
   "metadata": {},
   "outputs": [
    {
     "data": {
      "text/plain": [
       "'Connected: @temp_db.db'"
      ]
     },
     "execution_count": 68,
     "metadata": {},
     "output_type": "execute_result"
    }
   ],
   "source": [
    "%sql sqlite:///temp_db.db\n"
   ]
  },
  {
   "cell_type": "code",
   "execution_count": 69,
   "metadata": {},
   "outputs": [
    {
     "name": "stdout",
     "output_type": "stream",
     "text": [
      "   sqlite:///:memory:\n",
      " * sqlite:///temp_db.db\n",
      "Done.\n"
     ]
    },
    {
     "data": {
      "text/html": [
       "<table>\n",
       "    <tr>\n",
       "        <th>index</th>\n",
       "        <th>PassengerId</th>\n",
       "        <th>Survived</th>\n",
       "        <th>Pclass</th>\n",
       "        <th>Name</th>\n",
       "        <th>Sex</th>\n",
       "        <th>Age</th>\n",
       "        <th>SibSp</th>\n",
       "        <th>Parch</th>\n",
       "        <th>Ticket</th>\n",
       "        <th>Fare</th>\n",
       "        <th>Cabin</th>\n",
       "        <th>Embarked</th>\n",
       "    </tr>\n",
       "    <tr>\n",
       "        <td>0</td>\n",
       "        <td>1</td>\n",
       "        <td>0</td>\n",
       "        <td>3</td>\n",
       "        <td>Braund, Mr. Owen Harris</td>\n",
       "        <td>male</td>\n",
       "        <td>22.0</td>\n",
       "        <td>1</td>\n",
       "        <td>0</td>\n",
       "        <td>A/5 21171</td>\n",
       "        <td>7.25</td>\n",
       "        <td>None</td>\n",
       "        <td>S</td>\n",
       "    </tr>\n",
       "    <tr>\n",
       "        <td>1</td>\n",
       "        <td>2</td>\n",
       "        <td>1</td>\n",
       "        <td>1</td>\n",
       "        <td>Cumings, Mrs. John Bradley (Florence Briggs Thayer)</td>\n",
       "        <td>female</td>\n",
       "        <td>38.0</td>\n",
       "        <td>1</td>\n",
       "        <td>0</td>\n",
       "        <td>PC 17599</td>\n",
       "        <td>71.2833</td>\n",
       "        <td>C85</td>\n",
       "        <td>C</td>\n",
       "    </tr>\n",
       "</table>"
      ],
      "text/plain": [
       "[(0, 1, 0, 3, 'Braund, Mr. Owen Harris', 'male', 22.0, 1, 0, 'A/5 21171', 7.25, None, 'S'),\n",
       " (1, 2, 1, 1, 'Cumings, Mrs. John Bradley (Florence Briggs Thayer)', 'female', 38.0, 1, 0, 'PC 17599', 71.2833, 'C85', 'C')]"
      ]
     },
     "execution_count": 69,
     "metadata": {},
     "output_type": "execute_result"
    }
   ],
   "source": [
    "%%sql\n",
    "\n",
    "select * from train\n",
    "LIMIT 2"
   ]
  },
  {
   "cell_type": "code",
   "execution_count": 70,
   "metadata": {},
   "outputs": [
    {
     "name": "stdout",
     "output_type": "stream",
     "text": [
      "   sqlite:///:memory:\n",
      " * sqlite:///temp_db.db\n",
      "Done.\n"
     ]
    },
    {
     "data": {
      "text/html": [
       "<table>\n",
       "    <tr>\n",
       "        <th>index</th>\n",
       "        <th>PassengerId</th>\n",
       "        <th>Survived</th>\n",
       "        <th>Pclass</th>\n",
       "        <th>Name</th>\n",
       "        <th>Sex</th>\n",
       "        <th>Age</th>\n",
       "        <th>SibSp</th>\n",
       "        <th>Parch</th>\n",
       "        <th>Ticket</th>\n",
       "        <th>Fare</th>\n",
       "        <th>Cabin</th>\n",
       "        <th>Embarked</th>\n",
       "    </tr>\n",
       "    <tr>\n",
       "        <td>0</td>\n",
       "        <td>1</td>\n",
       "        <td>0</td>\n",
       "        <td>3</td>\n",
       "        <td>Braund, Mr. Owen Harris</td>\n",
       "        <td>male</td>\n",
       "        <td>22.0</td>\n",
       "        <td>1</td>\n",
       "        <td>0</td>\n",
       "        <td>A/5 21171</td>\n",
       "        <td>7.25</td>\n",
       "        <td>None</td>\n",
       "        <td>S</td>\n",
       "    </tr>\n",
       "    <tr>\n",
       "        <td>1</td>\n",
       "        <td>2</td>\n",
       "        <td>1</td>\n",
       "        <td>1</td>\n",
       "        <td>Cumings, Mrs. John Bradley (Florence Briggs Thayer)</td>\n",
       "        <td>female</td>\n",
       "        <td>38.0</td>\n",
       "        <td>1</td>\n",
       "        <td>0</td>\n",
       "        <td>PC 17599</td>\n",
       "        <td>71.2833</td>\n",
       "        <td>C85</td>\n",
       "        <td>C</td>\n",
       "    </tr>\n",
       "</table>"
      ],
      "text/plain": [
       "[(0, 1, 0, 3, 'Braund, Mr. Owen Harris', 'male', 22.0, 1, 0, 'A/5 21171', 7.25, None, 'S'),\n",
       " (1, 2, 1, 1, 'Cumings, Mrs. John Bradley (Florence Briggs Thayer)', 'female', 38.0, 1, 0, 'PC 17599', 71.2833, 'C85', 'C')]"
      ]
     },
     "execution_count": 70,
     "metadata": {},
     "output_type": "execute_result"
    }
   ],
   "source": [
    "%%sql\n",
    "\n",
    "select * from train\n",
    "LIMIT 2"
   ]
  },
  {
   "cell_type": "code",
   "execution_count": 71,
   "metadata": {},
   "outputs": [
    {
     "name": "stdout",
     "output_type": "stream",
     "text": [
      "   sqlite:///:memory:\n",
      " * sqlite:///temp_db.db\n",
      "Done.\n"
     ]
    },
    {
     "data": {
      "text/html": [
       "<table>\n",
       "    <tr>\n",
       "        <th>index</th>\n",
       "        <th>PassengerId</th>\n",
       "        <th>Pclass</th>\n",
       "        <th>Name</th>\n",
       "        <th>Sex</th>\n",
       "        <th>Age</th>\n",
       "        <th>SibSp</th>\n",
       "        <th>Parch</th>\n",
       "        <th>Ticket</th>\n",
       "        <th>Fare</th>\n",
       "        <th>Cabin</th>\n",
       "        <th>Embarked</th>\n",
       "    </tr>\n",
       "    <tr>\n",
       "        <td>0</td>\n",
       "        <td>892</td>\n",
       "        <td>3</td>\n",
       "        <td>Kelly, Mr. James</td>\n",
       "        <td>male</td>\n",
       "        <td>34.5</td>\n",
       "        <td>0</td>\n",
       "        <td>0</td>\n",
       "        <td>330911</td>\n",
       "        <td>7.8292</td>\n",
       "        <td>None</td>\n",
       "        <td>Q</td>\n",
       "    </tr>\n",
       "    <tr>\n",
       "        <td>1</td>\n",
       "        <td>893</td>\n",
       "        <td>3</td>\n",
       "        <td>Wilkes, Mrs. James (Ellen Needs)</td>\n",
       "        <td>female</td>\n",
       "        <td>47.0</td>\n",
       "        <td>1</td>\n",
       "        <td>0</td>\n",
       "        <td>363272</td>\n",
       "        <td>7.0</td>\n",
       "        <td>None</td>\n",
       "        <td>S</td>\n",
       "    </tr>\n",
       "</table>"
      ],
      "text/plain": [
       "[(0, 892, 3, 'Kelly, Mr. James', 'male', 34.5, 0, 0, '330911', 7.8292, None, 'Q'),\n",
       " (1, 893, 3, 'Wilkes, Mrs. James (Ellen Needs)', 'female', 47.0, 1, 0, '363272', 7.0, None, 'S')]"
      ]
     },
     "execution_count": 71,
     "metadata": {},
     "output_type": "execute_result"
    }
   ],
   "source": [
    "%%sql\n",
    "\n",
    "select * from test\n",
    "LIMIT 2"
   ]
  },
  {
   "cell_type": "code",
   "execution_count": null,
   "metadata": {},
   "outputs": [],
   "source": []
  },
  {
   "cell_type": "code",
   "execution_count": null,
   "metadata": {},
   "outputs": [],
   "source": []
  },
  {
   "cell_type": "code",
   "execution_count": null,
   "metadata": {},
   "outputs": [],
   "source": []
  },
  {
   "cell_type": "code",
   "execution_count": null,
   "metadata": {},
   "outputs": [],
   "source": []
  }
 ],
 "metadata": {
  "kernelspec": {
   "display_name": "Python 3",
   "language": "python",
   "name": "python3"
  },
  "language_info": {
   "codemirror_mode": {
    "name": "ipython",
    "version": 3
   },
   "file_extension": ".py",
   "mimetype": "text/x-python",
   "name": "python",
   "nbconvert_exporter": "python",
   "pygments_lexer": "ipython3",
   "version": "3.7.3"
  }
 },
 "nbformat": 4,
 "nbformat_minor": 2
}
