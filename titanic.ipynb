{
 "cells": [
  {
   "cell_type": "code",
   "execution_count": 1,
   "metadata": {},
   "outputs": [],
   "source": [
    "%load_ext sql\n",
    "%config SqlMagic.autocommit=False # for engines that do not support autommit"
   ]
  },
  {
   "cell_type": "code",
   "execution_count": 2,
   "metadata": {},
   "outputs": [
    {
     "data": {
      "text/plain": [
       "Engine(sqlite:///temp_db.db)"
      ]
     },
     "execution_count": 2,
     "metadata": {},
     "output_type": "execute_result"
    }
   ],
   "source": [
    "from sqlalchemy import create_engine\n",
    "from sqlalchemy.ext.declarative import declarative_base\n",
    "import csv\n",
    "import pandas as pd\n",
    "\n",
    "# had issues with tables persisting using in memory \n",
    "db_connection_string = 'sqlite:///temp_db.db'\n",
    "\n",
    "Base = declarative_base()\n",
    "engine = create_engine( db_connection_string )\n",
    "Base.metadata.create_all(engine)\n",
    "\n",
    "engine"
   ]
  },
  {
   "cell_type": "code",
   "execution_count": 3,
   "metadata": {},
   "outputs": [],
   "source": [
    "# load data into tables as is \n",
    "df = pd.read_csv('./data/titanic/train.csv')\n",
    "df.to_sql(con=engine, name='train', if_exists='replace')\n",
    "\n",
    "df1 = pd.read_csv('./data/titanic/gender_submission.csv')\n",
    "df1.to_sql(con=engine, name='gender_submission', if_exists='replace')\n",
    "\n",
    "df2 = pd.read_csv('./data/titanic/test.csv')\n",
    "df2.to_sql(con=engine, name='test', if_exists='replace')\n"
   ]
  },
  {
   "cell_type": "code",
   "execution_count": 4,
   "metadata": {},
   "outputs": [
    {
     "data": {
      "text/plain": [
       "'After this cell its all SQL'"
      ]
     },
     "execution_count": 4,
     "metadata": {},
     "output_type": "execute_result"
    }
   ],
   "source": [
    "\"After this cell its all SQL\""
   ]
  },
  {
   "cell_type": "code",
   "execution_count": 5,
   "metadata": {},
   "outputs": [
    {
     "data": {
      "text/plain": [
       "'Connected: @temp_db.db'"
      ]
     },
     "execution_count": 5,
     "metadata": {},
     "output_type": "execute_result"
    }
   ],
   "source": [
    "%sql sqlite:///temp_db.db\n"
   ]
  },
  {
   "cell_type": "code",
   "execution_count": 25,
   "metadata": {},
   "outputs": [
    {
     "name": "stdout",
     "output_type": "stream",
     "text": [
      " * sqlite:///temp_db.db\n",
      "Done.\n",
      "Done.\n",
      "Done.\n"
     ]
    },
    {
     "data": {
      "text/html": [
       "<table>\n",
       "    <tr>\n",
       "        <th>index</th>\n",
       "        <th>PassengerId</th>\n",
       "        <th>Survived</th>\n",
       "    </tr>\n",
       "    <tr>\n",
       "        <td>0</td>\n",
       "        <td>892</td>\n",
       "        <td>0</td>\n",
       "    </tr>\n",
       "    <tr>\n",
       "        <td>1</td>\n",
       "        <td>893</td>\n",
       "        <td>1</td>\n",
       "    </tr>\n",
       "</table>"
      ],
      "text/plain": [
       "[(0, 892, 0), (1, 893, 1)]"
      ]
     },
     "execution_count": 25,
     "metadata": {},
     "output_type": "execute_result"
    }
   ],
   "source": [
    "%%sql\n",
    "\n",
    "select * from train\n",
    "LIMIT 2;\n",
    "\n",
    "select * from test\n",
    "LIMIT 2;\n",
    "\n",
    "select * from gender_submission\n",
    "LIMIT 2;"
   ]
  },
  {
   "cell_type": "code",
   "execution_count": 23,
   "metadata": {},
   "outputs": [
    {
     "name": "stdout",
     "output_type": "stream",
     "text": [
      " * sqlite:///temp_db.db\n",
      "Done.\n"
     ]
    },
    {
     "data": {
      "text/html": [
       "<table>\n",
       "    <tr>\n",
       "        <th>PassengerId</th>\n",
       "        <th>PClass</th>\n",
       "        <th>Name</th>\n",
       "        <th>Sex</th>\n",
       "        <th>SibSp</th>\n",
       "        <th>Parch</th>\n",
       "        <th>Ticket</th>\n",
       "        <th>Fare</th>\n",
       "        <th>Cabin</th>\n",
       "        <th>Embarked</th>\n",
       "        <th>Survived</th>\n",
       "    </tr>\n",
       "    <tr>\n",
       "        <td>1</td>\n",
       "        <td>3</td>\n",
       "        <td>Braund, Mr. Owen Harris</td>\n",
       "        <td>male</td>\n",
       "        <td>22.0</td>\n",
       "        <td>0</td>\n",
       "        <td>A/5 21171</td>\n",
       "        <td>7.25</td>\n",
       "        <td>None</td>\n",
       "        <td>S</td>\n",
       "        <td>0</td>\n",
       "    </tr>\n",
       "    <tr>\n",
       "        <td>2</td>\n",
       "        <td>1</td>\n",
       "        <td>Cumings, Mrs. John Bradley (Florence Briggs Thayer)</td>\n",
       "        <td>female</td>\n",
       "        <td>38.0</td>\n",
       "        <td>0</td>\n",
       "        <td>PC 17599</td>\n",
       "        <td>71.2833</td>\n",
       "        <td>C85</td>\n",
       "        <td>C</td>\n",
       "        <td>1</td>\n",
       "    </tr>\n",
       "    <tr>\n",
       "        <td>3</td>\n",
       "        <td>3</td>\n",
       "        <td>Heikkinen, Miss. Laina</td>\n",
       "        <td>female</td>\n",
       "        <td>26.0</td>\n",
       "        <td>0</td>\n",
       "        <td>STON/O2. 3101282</td>\n",
       "        <td>7.925</td>\n",
       "        <td>None</td>\n",
       "        <td>S</td>\n",
       "        <td>1</td>\n",
       "    </tr>\n",
       "    <tr>\n",
       "        <td>4</td>\n",
       "        <td>1</td>\n",
       "        <td>Futrelle, Mrs. Jacques Heath (Lily May Peel)</td>\n",
       "        <td>female</td>\n",
       "        <td>35.0</td>\n",
       "        <td>0</td>\n",
       "        <td>113803</td>\n",
       "        <td>53.1</td>\n",
       "        <td>C123</td>\n",
       "        <td>S</td>\n",
       "        <td>1</td>\n",
       "    </tr>\n",
       "    <tr>\n",
       "        <td>5</td>\n",
       "        <td>3</td>\n",
       "        <td>Allen, Mr. William Henry</td>\n",
       "        <td>male</td>\n",
       "        <td>35.0</td>\n",
       "        <td>0</td>\n",
       "        <td>373450</td>\n",
       "        <td>8.05</td>\n",
       "        <td>None</td>\n",
       "        <td>S</td>\n",
       "        <td>0</td>\n",
       "    </tr>\n",
       "</table>"
      ],
      "text/plain": [
       "[(1, 3, 'Braund, Mr. Owen Harris', 'male', 22.0, 0, 'A/5 21171', 7.25, None, 'S', 0),\n",
       " (2, 1, 'Cumings, Mrs. John Bradley (Florence Briggs Thayer)', 'female', 38.0, 0, 'PC 17599', 71.2833, 'C85', 'C', 1),\n",
       " (3, 3, 'Heikkinen, Miss. Laina', 'female', 26.0, 0, 'STON/O2. 3101282', 7.925, None, 'S', 1),\n",
       " (4, 1, 'Futrelle, Mrs. Jacques Heath (Lily May Peel)', 'female', 35.0, 0, '113803', 53.1, 'C123', 'S', 1),\n",
       " (5, 3, 'Allen, Mr. William Henry', 'male', 35.0, 0, '373450', 8.05, None, 'S', 0)]"
      ]
     },
     "execution_count": 23,
     "metadata": {},
     "output_type": "execute_result"
    }
   ],
   "source": [
    "%%sql\n",
    "\n",
    "-- create a CTE to make it easier in subsequent cells to reference this table\n",
    "\n",
    "WITH passengers AS \n",
    "( \n",
    " \n",
    "    select PassengerId, PClass, Name, Sex, Age SibSp, Parch, Ticket, Fare, Cabin, Embarked, Survived\n",
    "    from\n",
    "    -- first join the test data to the labels\n",
    "    (select * \n",
    "    from test\n",
    "    JOIN gender_submission as gs\n",
    "    ON test.PassengerId = gs.PassengerId)\n",
    "    -- then add to the original train data for a complete set\n",
    "    UNION\n",
    "    select PassengerId, PClass, Name, Sex, Age SibSp, Parch, Ticket, Fare, Cabin, Embarked, Survived\n",
    "    from train\n",
    ") \n",
    "select * from passengers\n",
    "LIMIT 3\n"
   ]
  },
  {
   "cell_type": "code",
   "execution_count": 22,
   "metadata": {},
   "outputs": [
    {
     "name": "stdout",
     "output_type": "stream",
     "text": [
      " * sqlite:///temp_db.db\n",
      "Done.\n"
     ]
    },
    {
     "data": {
      "text/html": [
       "<table>\n",
       "    <tr>\n",
       "        <th>index</th>\n",
       "        <th>PassengerId</th>\n",
       "        <th>Survived</th>\n",
       "        <th>Pclass</th>\n",
       "        <th>Name</th>\n",
       "        <th>Sex</th>\n",
       "        <th>Age</th>\n",
       "        <th>SibSp</th>\n",
       "        <th>Parch</th>\n",
       "        <th>Ticket</th>\n",
       "        <th>Fare</th>\n",
       "        <th>Cabin</th>\n",
       "        <th>Embarked</th>\n",
       "    </tr>\n",
       "    <tr>\n",
       "        <td>0</td>\n",
       "        <td>1</td>\n",
       "        <td>0</td>\n",
       "        <td>3</td>\n",
       "        <td>Braund, Mr. Owen Harris</td>\n",
       "        <td>male</td>\n",
       "        <td>22.0</td>\n",
       "        <td>1</td>\n",
       "        <td>0</td>\n",
       "        <td>A/5 21171</td>\n",
       "        <td>7.25</td>\n",
       "        <td>None</td>\n",
       "        <td>S</td>\n",
       "    </tr>\n",
       "    <tr>\n",
       "        <td>1</td>\n",
       "        <td>2</td>\n",
       "        <td>1</td>\n",
       "        <td>1</td>\n",
       "        <td>Cumings, Mrs. John Bradley (Florence Briggs Thayer)</td>\n",
       "        <td>female</td>\n",
       "        <td>38.0</td>\n",
       "        <td>1</td>\n",
       "        <td>0</td>\n",
       "        <td>PC 17599</td>\n",
       "        <td>71.2833</td>\n",
       "        <td>C85</td>\n",
       "        <td>C</td>\n",
       "    </tr>\n",
       "    <tr>\n",
       "        <td>2</td>\n",
       "        <td>3</td>\n",
       "        <td>1</td>\n",
       "        <td>3</td>\n",
       "        <td>Heikkinen, Miss. Laina</td>\n",
       "        <td>female</td>\n",
       "        <td>26.0</td>\n",
       "        <td>0</td>\n",
       "        <td>0</td>\n",
       "        <td>STON/O2. 3101282</td>\n",
       "        <td>7.925</td>\n",
       "        <td>None</td>\n",
       "        <td>S</td>\n",
       "    </tr>\n",
       "    <tr>\n",
       "        <td>3</td>\n",
       "        <td>4</td>\n",
       "        <td>1</td>\n",
       "        <td>1</td>\n",
       "        <td>Futrelle, Mrs. Jacques Heath (Lily May Peel)</td>\n",
       "        <td>female</td>\n",
       "        <td>35.0</td>\n",
       "        <td>1</td>\n",
       "        <td>0</td>\n",
       "        <td>113803</td>\n",
       "        <td>53.1</td>\n",
       "        <td>C123</td>\n",
       "        <td>S</td>\n",
       "    </tr>\n",
       "    <tr>\n",
       "        <td>4</td>\n",
       "        <td>5</td>\n",
       "        <td>0</td>\n",
       "        <td>3</td>\n",
       "        <td>Allen, Mr. William Henry</td>\n",
       "        <td>male</td>\n",
       "        <td>35.0</td>\n",
       "        <td>0</td>\n",
       "        <td>0</td>\n",
       "        <td>373450</td>\n",
       "        <td>8.05</td>\n",
       "        <td>None</td>\n",
       "        <td>S</td>\n",
       "    </tr>\n",
       "</table>"
      ],
      "text/plain": [
       "[(0, 1, 0, 3, 'Braund, Mr. Owen Harris', 'male', 22.0, 1, 0, 'A/5 21171', 7.25, None, 'S'),\n",
       " (1, 2, 1, 1, 'Cumings, Mrs. John Bradley (Florence Briggs Thayer)', 'female', 38.0, 1, 0, 'PC 17599', 71.2833, 'C85', 'C'),\n",
       " (2, 3, 1, 3, 'Heikkinen, Miss. Laina', 'female', 26.0, 0, 0, 'STON/O2. 3101282', 7.925, None, 'S'),\n",
       " (3, 4, 1, 1, 'Futrelle, Mrs. Jacques Heath (Lily May Peel)', 'female', 35.0, 1, 0, '113803', 53.1, 'C123', 'S'),\n",
       " (4, 5, 0, 3, 'Allen, Mr. William Henry', 'male', 35.0, 0, 0, '373450', 8.05, None, 'S')]"
      ]
     },
     "execution_count": 22,
     "metadata": {},
     "output_type": "execute_result"
    }
   ],
   "source": [
    "%%sql \n",
    "\n",
    "select * from passengers\n",
    "LIMIT 3"
   ]
  },
  {
   "cell_type": "code",
   "execution_count": null,
   "metadata": {},
   "outputs": [],
   "source": []
  },
  {
   "cell_type": "code",
   "execution_count": null,
   "metadata": {},
   "outputs": [],
   "source": []
  }
 ],
 "metadata": {
  "kernelspec": {
   "display_name": "Python 3",
   "language": "python",
   "name": "python3"
  },
  "language_info": {
   "codemirror_mode": {
    "name": "ipython",
    "version": 3
   },
   "file_extension": ".py",
   "mimetype": "text/x-python",
   "name": "python",
   "nbconvert_exporter": "python",
   "pygments_lexer": "ipython3",
   "version": "3.7.3"
  }
 },
 "nbformat": 4,
 "nbformat_minor": 2
}
