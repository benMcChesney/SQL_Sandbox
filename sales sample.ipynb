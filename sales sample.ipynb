{
 "cells": [
  {
   "cell_type": "code",
   "execution_count": 18,
   "metadata": {},
   "outputs": [
    {
     "name": "stdout",
     "output_type": "stream",
     "text": [
      "The sql extension is already loaded. To reload it, use:\n",
      "  %reload_ext sql\n"
     ]
    },
    {
     "data": {
      "text/plain": [
       "Engine(sqlite:///temp_db.db)"
      ]
     },
     "execution_count": 18,
     "metadata": {},
     "output_type": "execute_result"
    }
   ],
   "source": [
    "# question from  https://biginterview.com/blog/2014/09/sql-interview-questions.html  - #5\n",
    "\n",
    "%load_ext sql\n",
    "%config SqlMagic.autocommit=False # for engines that do not support autommit\n",
    "\n",
    "# Question 1 from : https://data36.com/sql-interview-questions-tech-screening-data-analysts/\n",
    "\n",
    "from sqlalchemy import create_engine\n",
    "from sqlalchemy.ext.declarative import declarative_base\n",
    "import csv\n",
    "import pandas as pd\n",
    "\n",
    "# had issues with tables persisting using in memory \n",
    "db_connection_string = 'sqlite:///temp_db.db'\n",
    "\n",
    "Base = declarative_base()\n",
    "engine = create_engine( db_connection_string )\n",
    "Base.metadata.create_all(engine)\n",
    "\n",
    "engine"
   ]
  },
  {
   "cell_type": "code",
   "execution_count": 19,
   "metadata": {},
   "outputs": [
    {
     "data": {
      "text/plain": [
       "'Connected: @temp_db.db'"
      ]
     },
     "execution_count": 19,
     "metadata": {},
     "output_type": "execute_result"
    }
   ],
   "source": [
    "%sql sqlite:///temp_db.db"
   ]
  },
  {
   "cell_type": "code",
   "execution_count": 20,
   "metadata": {},
   "outputs": [],
   "source": [
    "\n",
    "\n",
    "# load data into tables as is \n",
    "df = pd.read_csv('./data/interview/SQL Interview Samples - salesperson.csv')\n",
    "df.to_sql(con=engine, name='salespeople', if_exists='replace')\n",
    "\n",
    "df = pd.read_csv('./data/interview/SQL Interview Samples - customer.csv')\n",
    "df.to_sql(con=engine, name='customers', if_exists='replace')\n",
    "\n",
    "df = pd.read_csv('./data/interview/SQL Interview Samples - order.csv')\n",
    "df.to_sql(con=engine, name='orders', if_exists='replace')\n"
   ]
  },
  {
   "cell_type": "code",
   "execution_count": 24,
   "metadata": {},
   "outputs": [
    {
     "name": "stdout",
     "output_type": "stream",
     "text": [
      " * sqlite:///temp_db.db\n",
      "Done.\n"
     ]
    },
    {
     "data": {
      "text/html": [
       "<table>\n",
       "    <tr>\n",
       "        <th>Name</th>\n",
       "        <th>total_revenue_sold</th>\n",
       "        <th>total_bonus</th>\n",
       "    </tr>\n",
       "    <tr>\n",
       "        <td>Pam</td>\n",
       "        <td>3126845</td>\n",
       "        <td>781711.25</td>\n",
       "    </tr>\n",
       "    <tr>\n",
       "        <td>Mark</td>\n",
       "        <td>2680766</td>\n",
       "        <td>321691.92</td>\n",
       "    </tr>\n",
       "    <tr>\n",
       "        <td>Alex</td>\n",
       "        <td>3017393</td>\n",
       "        <td>301739.3</td>\n",
       "    </tr>\n",
       "    <tr>\n",
       "        <td>John</td>\n",
       "        <td>3015672</td>\n",
       "        <td>180940.32</td>\n",
       "    </tr>\n",
       "    <tr>\n",
       "        <td>Amy</td>\n",
       "        <td>3217676</td>\n",
       "        <td>160883.80000000002</td>\n",
       "    </tr>\n",
       "</table>"
      ],
      "text/plain": [
       "[('Pam', 3126845, 781711.25),\n",
       " ('Mark', 2680766, 321691.92),\n",
       " ('Alex', 3017393, 301739.3),\n",
       " ('John', 3015672, 180940.32),\n",
       " ('Amy', 3217676, 160883.80000000002)]"
      ]
     },
     "execution_count": 24,
     "metadata": {},
     "output_type": "execute_result"
    }
   ],
   "source": [
    "%%sql \n",
    "\n",
    "-- Given the tables above, write a query that will calculate the total commission by salesperson.\n",
    "\n",
    "WITH order_with_sales AS ( \n",
    "    \n",
    "    select * \n",
    "    FROM orders\n",
    "    JOIN salespeople\n",
    "    ON salespeople.id = orders.Sales_ID\n",
    ")\n",
    "\n",
    "select name, \n",
    "    SUM(Amount) as total_revenue_sold, \n",
    "    ( SUM(Amount) * (Commission_Rate/100.00)) as total_bonus\n",
    "FROM order_with_sales\n",
    "GROUP BY name\n",
    "ORDER BY total_bonus DESC"
   ]
  },
  {
   "cell_type": "code",
   "execution_count": 43,
   "metadata": {},
   "outputs": [
    {
     "name": "stdout",
     "output_type": "stream",
     "text": [
      " * sqlite:///temp_db.db\n",
      "Done.\n"
     ]
    },
    {
     "data": {
      "text/html": [
       "<table>\n",
       "    <tr>\n",
       "        <th>salesperson_name</th>\n",
       "        <th>customer_name</th>\n",
       "        <th>customer_total</th>\n",
       "    </tr>\n",
       "    <tr>\n",
       "        <td>John</td>\n",
       "        <td>Red</td>\n",
       "        <td>47</td>\n",
       "    </tr>\n",
       "    <tr>\n",
       "        <td>Mark</td>\n",
       "        <td>Red</td>\n",
       "        <td>47</td>\n",
       "    </tr>\n",
       "</table>"
      ],
      "text/plain": [
       "[('John', 'Red', 47), ('Mark', 'Red', 47)]"
      ]
     },
     "execution_count": 43,
     "metadata": {},
     "output_type": "execute_result"
    }
   ],
   "source": [
    "%%sql \n",
    "\n",
    "-- question #2\n",
    "-- Name all salespersons who did not sell to company Red.\n",
    "\n",
    "-- start off combining sales info to orders\n",
    "WITH order_with_sales AS ( \n",
    "    \n",
    "    select * \n",
    "    FROM orders\n",
    "    JOIN salespeople\n",
    "    ON salespeople.id = orders.Sales_ID\n",
    "),\n",
    "\n",
    "\n",
    "-- then add on the customer data\n",
    "order_sales_customer AS (\n",
    "\n",
    "    select customers.Name AS customer_name, order_with_sales.name as salesperson_name\n",
    "    FROM order_with_sales\n",
    "    JOIN customers\n",
    "    ON order_with_sales.Cust_ID = customers.ID\n",
    "    \n",
    ")\n",
    "\n",
    "-- count the rows and filter it out to only red, too much data to detect 0 \n",
    "-- so we set a threshold and check that in having\n",
    "\n",
    "select salesperson_name, customer_name , COUNT(*) as customer_total\n",
    "from  order_sales_customer \n",
    "WHERE customer_name = 'Red' \n",
    "GROUP BY salesperson_name, customer_name\n",
    "HAVING COUNT(*) <= 50"
   ]
  },
  {
   "cell_type": "code",
   "execution_count": 46,
   "metadata": {},
   "outputs": [
    {
     "name": "stdout",
     "output_type": "stream",
     "text": [
      " * sqlite:///temp_db.db\n",
      "Done.\n"
     ]
    },
    {
     "data": {
      "text/html": [
       "<table>\n",
       "    <tr>\n",
       "        <th>Name</th>\n",
       "    </tr>\n",
       "    <tr>\n",
       "        <td>John</td>\n",
       "    </tr>\n",
       "    <tr>\n",
       "        <td>Amy</td>\n",
       "    </tr>\n",
       "    <tr>\n",
       "        <td>Mark</td>\n",
       "    </tr>\n",
       "    <tr>\n",
       "        <td>Pam</td>\n",
       "    </tr>\n",
       "    <tr>\n",
       "        <td>Alex</td>\n",
       "    </tr>\n",
       "</table>"
      ],
      "text/plain": [
       "[('John',), ('Amy',), ('Mark',), ('Pam',), ('Alex',)]"
      ]
     },
     "execution_count": 46,
     "metadata": {},
     "output_type": "execute_result"
    }
   ],
   "source": [
    "%%sql\n",
    "--  official answer\n",
    "\n",
    "SELECT s.name from salespeople s\n",
    "WHERE s.ID NOT IN (\n",
    "SELECT o.sales_id FROM orders o, customers c\n",
    "WHERE o.cust_id = c.ID\n",
    "AND c.Name = 'RED')"
   ]
  },
  {
   "cell_type": "code",
   "execution_count": null,
   "metadata": {},
   "outputs": [],
   "source": []
  }
 ],
 "metadata": {
  "kernelspec": {
   "display_name": "Python 3",
   "language": "python",
   "name": "python3"
  },
  "language_info": {
   "codemirror_mode": {
    "name": "ipython",
    "version": 3
   },
   "file_extension": ".py",
   "mimetype": "text/x-python",
   "name": "python",
   "nbconvert_exporter": "python",
   "pygments_lexer": "ipython3",
   "version": "3.7.3"
  }
 },
 "nbformat": 4,
 "nbformat_minor": 2
}
