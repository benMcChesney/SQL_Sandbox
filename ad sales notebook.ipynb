{
 "cells": [
  {
   "cell_type": "code",
   "execution_count": null,
   "metadata": {},
   "outputs": [],
   "source": []
  },
  {
   "cell_type": "code",
   "execution_count": 35,
   "metadata": {},
   "outputs": [
    {
     "name": "stdout",
     "output_type": "stream",
     "text": [
      "The sql extension is already loaded. To reload it, use:\n",
      "  %reload_ext sql\n"
     ]
    },
    {
     "data": {
      "text/plain": [
       "Engine(sqlite:///temp_db.db)"
      ]
     },
     "execution_count": 35,
     "metadata": {},
     "output_type": "execute_result"
    }
   ],
   "source": [
    "%load_ext sql\n",
    "%config SqlMagic.autocommit=False # for engines that do not support autommit\n",
    "\n",
    "# Question 1 from : https://data36.com/sql-interview-questions-tech-screening-data-analysts/\n",
    "\n",
    "from sqlalchemy import create_engine\n",
    "from sqlalchemy.ext.declarative import declarative_base\n",
    "import csv\n",
    "import pandas as pd\n",
    "\n",
    "# had issues with tables persisting using in memory \n",
    "db_connection_string = 'sqlite:///temp_db.db'\n",
    "\n",
    "Base = declarative_base()\n",
    "engine = create_engine( db_connection_string )\n",
    "Base.metadata.create_all(engine)\n",
    "\n",
    "engine\n"
   ]
  },
  {
   "cell_type": "code",
   "execution_count": 36,
   "metadata": {},
   "outputs": [
    {
     "data": {
      "text/plain": [
       "'Connected: @temp_db.db'"
      ]
     },
     "execution_count": 36,
     "metadata": {},
     "output_type": "execute_result"
    }
   ],
   "source": [
    "%sql sqlite:///temp_db.db"
   ]
  },
  {
   "cell_type": "code",
   "execution_count": 37,
   "metadata": {},
   "outputs": [],
   "source": [
    "## Advertising / Ad buying SQL exam\n",
    "\n",
    "# load data into tables as is \n",
    "df = pd.read_csv('./data/interview/SQL Interview Samples - accounts.csv')\n",
    "df.to_sql(con=engine, name='accounts', if_exists='replace')\n",
    "\n",
    "df = pd.read_csv('./data/interview/SQL Interview Samples - account_managers.csv')\n",
    "df.to_sql(con=engine, name='account_managers', if_exists='replace')\n",
    "\n",
    "df = pd.read_csv('./data/interview/SQL Interview Samples - account_domain_deliveries.csv')\n",
    "df.to_sql(con=engine, name='account_domain_deliveries', if_exists='replace')\n"
   ]
  },
  {
   "cell_type": "code",
   "execution_count": 38,
   "metadata": {},
   "outputs": [
    {
     "name": "stdout",
     "output_type": "stream",
     "text": [
      " * sqlite:///temp_db.db\n",
      "Done.\n"
     ]
    },
    {
     "data": {
      "text/html": [
       "<table>\n",
       "    <tr>\n",
       "        <th>name</th>\n",
       "    </tr>\n",
       "    <tr>\n",
       "        <td>Jobox</td>\n",
       "    </tr>\n",
       "    <tr>\n",
       "        <td>Tables</td>\n",
       "    </tr>\n",
       "    <tr>\n",
       "        <td>UNiqlo</td>\n",
       "    </tr>\n",
       "    <tr>\n",
       "        <td>AMazon</td>\n",
       "    </tr>\n",
       "    <tr>\n",
       "        <td>fake store</td>\n",
       "    </tr>\n",
       "</table>"
      ],
      "text/plain": [
       "[('Jobox',), ('Tables',), ('UNiqlo',), ('AMazon',), ('fake store',)]"
      ]
     },
     "execution_count": 38,
     "metadata": {},
     "output_type": "execute_result"
    }
   ],
   "source": [
    "%%sql \n",
    "\n",
    "-- Question #1\n",
    "-- list the name of all the retail accounts\n",
    "\n",
    "SELECT DISTINCT(name)\n",
    "FROM accounts\n",
    "WHERE industry = 'Retail'"
   ]
  },
  {
   "cell_type": "code",
   "execution_count": 39,
   "metadata": {},
   "outputs": [
    {
     "name": "stdout",
     "output_type": "stream",
     "text": [
      " * sqlite:///temp_db.db\n",
      "Done.\n"
     ]
    },
    {
     "data": {
      "text/html": [
       "<table>\n",
       "    <tr>\n",
       "        <th>account_name</th>\n",
       "        <th>sum(spend)</th>\n",
       "    </tr>\n",
       "    <tr>\n",
       "        <td>Dollie Parton</td>\n",
       "        <td>16388</td>\n",
       "    </tr>\n",
       "    <tr>\n",
       "        <td>Jobox</td>\n",
       "        <td>16991</td>\n",
       "    </tr>\n",
       "    <tr>\n",
       "        <td>Lamps</td>\n",
       "        <td>16563</td>\n",
       "    </tr>\n",
       "    <tr>\n",
       "        <td>Tables</td>\n",
       "        <td>29255</td>\n",
       "    </tr>\n",
       "    <tr>\n",
       "        <td>Walmart</td>\n",
       "        <td>15906</td>\n",
       "    </tr>\n",
       "</table>"
      ],
      "text/plain": [
       "[('Dollie Parton', 16388),\n",
       " ('Jobox', 16991),\n",
       " ('Lamps', 16563),\n",
       " ('Tables', 29255),\n",
       " ('Walmart', 15906)]"
      ]
     },
     "execution_count": 39,
     "metadata": {},
     "output_type": "execute_result"
    }
   ],
   "source": [
    "%%sql \n",
    "\n",
    "-- question #2\n",
    "-- in alphabetical order show names on accounts that spend more than 15000 in April\n",
    "\n",
    "select name as account_name, sum(spend)\n",
    "FROM accounts\n",
    "JOIN account_domain_deliveries as spend\n",
    "ON accounts.id = spend.account_id\n",
    "WHERE date >= \"2019-04-01\" AND date < \"2019-05-01\" \n",
    "GROUP BY name\n",
    "HAVING sum(spend)>15000\n",
    "ORDER BY account_name ASC"
   ]
  },
  {
   "cell_type": "code",
   "execution_count": 40,
   "metadata": {},
   "outputs": [
    {
     "name": "stdout",
     "output_type": "stream",
     "text": [
      " * sqlite:///temp_db.db\n",
      "Done.\n"
     ]
    },
    {
     "data": {
      "text/html": [
       "<table>\n",
       "    <tr>\n",
       "        <th>name</th>\n",
       "        <th>office</th>\n",
       "        <th>total_spend</th>\n",
       "    </tr>\n",
       "    <tr>\n",
       "        <td>Bob </td>\n",
       "        <td>Dubai</td>\n",
       "        <td>13888</td>\n",
       "    </tr>\n",
       "    <tr>\n",
       "        <td>Morgan</td>\n",
       "        <td>London</td>\n",
       "        <td>13883</td>\n",
       "    </tr>\n",
       "    <tr>\n",
       "        <td>Chi Chi Davonpot</td>\n",
       "        <td>London</td>\n",
       "        <td>12878</td>\n",
       "    </tr>\n",
       "    <tr>\n",
       "        <td>Liz Lemon</td>\n",
       "        <td>New York</td>\n",
       "        <td>12483</td>\n",
       "    </tr>\n",
       "    <tr>\n",
       "        <td>Jenna Maroni</td>\n",
       "        <td>Dublin</td>\n",
       "        <td>12434</td>\n",
       "    </tr>\n",
       "    <tr>\n",
       "        <td>Aja</td>\n",
       "        <td>Dubai</td>\n",
       "        <td>11437</td>\n",
       "    </tr>\n",
       "    <tr>\n",
       "        <td>Ru Paul</td>\n",
       "        <td>New York</td>\n",
       "        <td>10606</td>\n",
       "    </tr>\n",
       "</table>"
      ],
      "text/plain": [
       "[('Bob ', 'Dubai', 13888),\n",
       " ('Morgan', 'London', 13883),\n",
       " ('Chi Chi Davonpot', 'London', 12878),\n",
       " ('Liz Lemon', 'New York', 12483),\n",
       " ('Jenna Maroni', 'Dublin', 12434),\n",
       " ('Aja', 'Dubai', 11437),\n",
       " ('Ru Paul', 'New York', 10606)]"
      ]
     },
     "execution_count": 40,
     "metadata": {},
     "output_type": "execute_result"
    }
   ],
   "source": [
    "%%sql \n",
    "\n",
    "-- question #3\n",
    "-- for each account manager - how much did their combined accunts spend in June 2019? \n",
    "-- list the account manager by name and office descending order of total spend\n",
    "\n",
    "-- STEP 1 join spends with account manager , include name, office, spend\n",
    "-- STEP 2 - include account managers\n",
    "-- STEP 3 sum / group / ordre\n",
    "\n",
    "WITH spent_accounts AS \n",
    "( \n",
    "    select name as account_name, spend, id, account_id, date\n",
    "    FROM accounts\n",
    "    JOIN account_domain_deliveries as spend\n",
    "    ON accounts.id = spend.account_id\n",
    ") \n",
    "\n",
    "select name, office , sum(spend) as total_spend\n",
    "FROM spent_accounts\n",
    "JOIN account_managers\n",
    "ON spent_accounts.account_id = account_managers.id\n",
    "WHERE date >= '2019-06-01' and date < '2019-07-01'\n",
    "GROUP BY name, account_name\n",
    "ORDER BY total_spend DESC"
   ]
  },
  {
   "cell_type": "code",
   "execution_count": 41,
   "metadata": {},
   "outputs": [
    {
     "name": "stdout",
     "output_type": "stream",
     "text": [
      " * sqlite:///temp_db.db\n",
      "Done.\n"
     ]
    },
    {
     "data": {
      "text/html": [
       "<table>\n",
       "    <tr>\n",
       "        <th>account_name</th>\n",
       "        <th>days_with_min_spend</th>\n",
       "        <th>period_spend</th>\n",
       "        <th>avg_spend</th>\n",
       "    </tr>\n",
       "    <tr>\n",
       "        <td>Dollie Parton</td>\n",
       "        <td>7</td>\n",
       "        <td>3607</td>\n",
       "        <td>515.2857142857143</td>\n",
       "    </tr>\n",
       "    <tr>\n",
       "        <td>Tables</td>\n",
       "        <td>7</td>\n",
       "        <td>6335</td>\n",
       "        <td>905.0</td>\n",
       "    </tr>\n",
       "</table>"
      ],
      "text/plain": [
       "[('Dollie Parton', 7, 3607, 515.2857142857143), ('Tables', 7, 6335, 905.0)]"
      ]
     },
     "execution_count": 41,
     "metadata": {},
     "output_type": "execute_result"
    }
   ],
   "source": [
    "%%sql \n",
    "\n",
    "-- question #4\n",
    "-- find the names of all retail accounts that spent at least $200 \n",
    "-- for every day the last seven days of october\n",
    "\n",
    "\n",
    "-- first combine the spend to the account with account name\n",
    "WITH accounts_spend AS \n",
    "( \n",
    "    select name as account_name, spend, id, account_id, date\n",
    "    FROM accounts\n",
    "    JOIN account_domain_deliveries as spend\n",
    "    ON accounts.id = spend.account_id\n",
    "),\n",
    "\n",
    "-- then agg total spend by date so it is referenceable\n",
    "sum_spend_per_day AS \n",
    "( \n",
    "    select * , sum(spend) as total_spend\n",
    "    FROM accounts_spend\n",
    "    GROUP BY account_name, date\n",
    ") ,\n",
    "\n",
    "-- how many days in this period did each account meet the minimum spend?\n",
    "end_oct_filter_spend AS\n",
    "(\n",
    "    select  DISTINCT COUNT(account_name) as days_with_min_spend, account_name, total_spend, SUM(total_spend) as period_spend, AVG(total_spend) as avg_spend\n",
    "    from sum_spend_per_day\n",
    "    WHERE date > '2019-10-24' AND \n",
    "          date <= '2019-10-31' AND\n",
    "          total_spend > 200\n",
    "    GROUP BY account_name\n",
    ")\n",
    "\n",
    "-- lastly: which accounts had consistent spend overall 7 days?\n",
    "select account_name, days_with_min_spend, period_spend, avg_spend\n",
    "FROM end_oct_filter_spend\n",
    "WHERE days_with_min_spend = 7\n"
   ]
  },
  {
   "cell_type": "code",
   "execution_count": null,
   "metadata": {},
   "outputs": [],
   "source": []
  }
 ],
 "metadata": {
  "kernelspec": {
   "display_name": "Python 3",
   "language": "python",
   "name": "python3"
  },
  "language_info": {
   "codemirror_mode": {
    "name": "ipython",
    "version": 3
   },
   "file_extension": ".py",
   "mimetype": "text/x-python",
   "name": "python",
   "nbconvert_exporter": "python",
   "pygments_lexer": "ipython3",
   "version": "3.7.3"
  }
 },
 "nbformat": 4,
 "nbformat_minor": 2
}
