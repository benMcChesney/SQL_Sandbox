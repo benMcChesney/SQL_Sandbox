{
 "cells": [
  {
   "cell_type": "code",
   "execution_count": 12,
   "metadata": {},
   "outputs": [
    {
     "name": "stdout",
     "output_type": "stream",
     "text": [
      "The sql extension is already loaded. To reload it, use:\n",
      "  %reload_ext sql\n"
     ]
    },
    {
     "data": {
      "text/plain": [
       "Engine(sqlite:///temp_db.db)"
      ]
     },
     "execution_count": 12,
     "metadata": {},
     "output_type": "execute_result"
    }
   ],
   "source": [
    "%load_ext sql\n",
    "%config SqlMagic.autocommit=False # for engines that do not support autommit\n",
    "\n",
    "# Question 1 from : https://data36.com/sql-interview-questions-tech-screening-data-analysts/\n",
    "\n",
    "from sqlalchemy import create_engine\n",
    "from sqlalchemy.ext.declarative import declarative_base\n",
    "import csv\n",
    "import pandas as pd\n",
    "\n",
    "# had issues with tables persisting using in memory \n",
    "db_connection_string = 'sqlite:///temp_db.db'\n",
    "\n",
    "Base = declarative_base()\n",
    "engine = create_engine( db_connection_string )\n",
    "Base.metadata.create_all(engine)\n",
    "\n",
    "engine"
   ]
  },
  {
   "cell_type": "code",
   "execution_count": 13,
   "metadata": {},
   "outputs": [],
   "source": [
    "# load data into tables as is \n",
    "df = pd.read_csv('./data/interview/SQL Interview Samples - authors.csv')\n",
    "df.to_sql(con=engine, name='authors', if_exists='replace')\n",
    "\n",
    "df1 = pd.read_csv('./data/interview/SQL Interview Samples - books.csv')\n",
    "df1.to_sql(con=engine, name='books', if_exists='replace')\n"
   ]
  },
  {
   "cell_type": "code",
   "execution_count": 14,
   "metadata": {},
   "outputs": [
    {
     "data": {
      "text/plain": [
       "'Connected: @temp_db.db'"
      ]
     },
     "execution_count": 14,
     "metadata": {},
     "output_type": "execute_result"
    }
   ],
   "source": [
    "%sql sqlite:///temp_db.db\n"
   ]
  },
  {
   "cell_type": "code",
   "execution_count": 15,
   "metadata": {},
   "outputs": [
    {
     "name": "stdout",
     "output_type": "stream",
     "text": [
      " * sqlite:///temp_db.db\n",
      "Done.\n"
     ]
    },
    {
     "data": {
      "text/html": [
       "<table>\n",
       "    <tr>\n",
       "        <th>index</th>\n",
       "        <th>book_name</th>\n",
       "        <th>produced</th>\n",
       "        <th>sold %</th>\n",
       "        <th>sold</th>\n",
       "        <th>retail_price</th>\n",
       "        <th>profit</th>\n",
       "        <th>cost</th>\n",
       "    </tr>\n",
       "    <tr>\n",
       "        <td>0</td>\n",
       "        <td>This is a book</td>\n",
       "        <td>665397</td>\n",
       "        <td>0.6788392656000001</td>\n",
       "        <td>451697.6108</td>\n",
       "        <td>62.08352133</td>\n",
       "        <td>0.2768150884</td>\n",
       "        <td>34.15919968</td>\n",
       "    </tr>\n",
       "    <tr>\n",
       "        <td>1</td>\n",
       "        <td>moisterizing skin</td>\n",
       "        <td>942676</td>\n",
       "        <td>0.4591859369</td>\n",
       "        <td>432863.5623</td>\n",
       "        <td>61.05781933</td>\n",
       "        <td>0.036888031360000004</td>\n",
       "        <td>11.26025529</td>\n",
       "    </tr>\n",
       "</table>"
      ],
      "text/plain": [
       "[(0, 'This is a book', 665397, 0.6788392656000001, 451697.6108, 62.08352133, 0.2768150884, 34.15919968),\n",
       " (1, 'moisterizing skin', 942676, 0.4591859369, 432863.5623, 61.05781933, 0.036888031360000004, 11.26025529)]"
      ]
     },
     "execution_count": 15,
     "metadata": {},
     "output_type": "execute_result"
    }
   ],
   "source": [
    "%%sql\n",
    "\n",
    "select * from books\n",
    "LIMIT 2;"
   ]
  },
  {
   "cell_type": "code",
   "execution_count": 16,
   "metadata": {},
   "outputs": [
    {
     "name": "stdout",
     "output_type": "stream",
     "text": [
      " * sqlite:///temp_db.db\n",
      "Done.\n"
     ]
    },
    {
     "data": {
      "text/html": [
       "<table>\n",
       "    <tr>\n",
       "        <th>index</th>\n",
       "        <th>authors</th>\n",
       "        <th>book_name</th>\n",
       "    </tr>\n",
       "    <tr>\n",
       "        <td>0</td>\n",
       "        <td>Jim</td>\n",
       "        <td>This is a book</td>\n",
       "    </tr>\n",
       "    <tr>\n",
       "        <td>1</td>\n",
       "        <td>Jim</td>\n",
       "        <td>moisterizing skin</td>\n",
       "    </tr>\n",
       "</table>"
      ],
      "text/plain": [
       "[(0, 'Jim', 'This is a book'), (1, 'Jim', 'moisterizing skin')]"
      ]
     },
     "execution_count": 16,
     "metadata": {},
     "output_type": "execute_result"
    }
   ],
   "source": [
    "%%sql \n",
    "\n",
    "select * from authors\n",
    "LIMIT 2;"
   ]
  },
  {
   "cell_type": "code",
   "execution_count": 17,
   "metadata": {},
   "outputs": [
    {
     "name": "stdout",
     "output_type": "stream",
     "text": [
      " * sqlite:///temp_db.db\n",
      "Done.\n"
     ]
    },
    {
     "data": {
      "text/html": [
       "<table>\n",
       "    <tr>\n",
       "        <th>index</th>\n",
       "        <th>book_name</th>\n",
       "        <th>produced</th>\n",
       "        <th>sold %</th>\n",
       "        <th>sold</th>\n",
       "        <th>retail_price</th>\n",
       "        <th>profit</th>\n",
       "        <th>cost</th>\n",
       "        <th>index:1</th>\n",
       "        <th>authors</th>\n",
       "        <th>book_name:1</th>\n",
       "    </tr>\n",
       "    <tr>\n",
       "        <td>0</td>\n",
       "        <td>This is a book</td>\n",
       "        <td>665397</td>\n",
       "        <td>0.6788392656000001</td>\n",
       "        <td>451697.6108</td>\n",
       "        <td>62.08352133</td>\n",
       "        <td>0.2768150884</td>\n",
       "        <td>34.15919968</td>\n",
       "        <td>0</td>\n",
       "        <td>Jim</td>\n",
       "        <td>This is a book</td>\n",
       "    </tr>\n",
       "    <tr>\n",
       "        <td>1</td>\n",
       "        <td>moisterizing skin</td>\n",
       "        <td>942676</td>\n",
       "        <td>0.4591859369</td>\n",
       "        <td>432863.5623</td>\n",
       "        <td>61.05781933</td>\n",
       "        <td>0.036888031360000004</td>\n",
       "        <td>11.26025529</td>\n",
       "        <td>1</td>\n",
       "        <td>Jim</td>\n",
       "        <td>moisterizing skin</td>\n",
       "    </tr>\n",
       "    <tr>\n",
       "        <td>2</td>\n",
       "        <td>firmer more balance</td>\n",
       "        <td>261050</td>\n",
       "        <td>0.3225248106</td>\n",
       "        <td>84195.10181000001</td>\n",
       "        <td>62.96783526</td>\n",
       "        <td>0.04540847454</td>\n",
       "        <td>0.9007737598000001</td>\n",
       "        <td>2</td>\n",
       "        <td>Nancy</td>\n",
       "        <td>firmer more balance</td>\n",
       "    </tr>\n",
       "    <tr>\n",
       "        <td>3</td>\n",
       "        <td>natrual antioxident</td>\n",
       "        <td>545257</td>\n",
       "        <td>0.7990523362999999</td>\n",
       "        <td>435688.8797</td>\n",
       "        <td>60.84349894</td>\n",
       "        <td>0.09358153646</td>\n",
       "        <td>9.770961584</td>\n",
       "        <td>3</td>\n",
       "        <td>Tracy</td>\n",
       "        <td>natrual antioxident</td>\n",
       "    </tr>\n",
       "    <tr>\n",
       "        <td>4</td>\n",
       "        <td>lactic acid</td>\n",
       "        <td>752786</td>\n",
       "        <td>0.7154193055</td>\n",
       "        <td>538557.6373</td>\n",
       "        <td>62.47726399</td>\n",
       "        <td>-0.03857144365</td>\n",
       "        <td>46.4014161</td>\n",
       "        <td>4</td>\n",
       "        <td>Jenna</td>\n",
       "        <td>lactic acid</td>\n",
       "    </tr>\n",
       "</table>"
      ],
      "text/plain": [
       "[(0, 'This is a book', 665397, 0.6788392656000001, 451697.6108, 62.08352133, 0.2768150884, 34.15919968, 0, 'Jim', 'This is a book'),\n",
       " (1, 'moisterizing skin', 942676, 0.4591859369, 432863.5623, 61.05781933, 0.036888031360000004, 11.26025529, 1, 'Jim', 'moisterizing skin'),\n",
       " (2, 'firmer more balance', 261050, 0.3225248106, 84195.10181000001, 62.96783526, 0.04540847454, 0.9007737598000001, 2, 'Nancy', 'firmer more balance'),\n",
       " (3, 'natrual antioxident', 545257, 0.7990523362999999, 435688.8797, 60.84349894, 0.09358153646, 9.770961584, 3, 'Tracy', 'natrual antioxident'),\n",
       " (4, 'lactic acid', 752786, 0.7154193055, 538557.6373, 62.47726399, -0.03857144365, 46.4014161, 4, 'Jenna', 'lactic acid')]"
      ]
     },
     "execution_count": 17,
     "metadata": {},
     "output_type": "execute_result"
    }
   ],
   "source": [
    "%%sql\n",
    "\n",
    "-- Create an SQL query that shows the TOP 3 authors who sold the most books in total!\n",
    "\n",
    "WITH books_authors AS \n",
    "( \n",
    "select *\n",
    "FROM books\n",
    "JOIN authors as A\n",
    "ON a.book_name = books.book_name\n",
    ")\n",
    "select *\n",
    "FROM books_authors\n",
    "LIMIT 5"
   ]
  },
  {
   "cell_type": "code",
   "execution_count": 18,
   "metadata": {},
   "outputs": [
    {
     "name": "stdout",
     "output_type": "stream",
     "text": [
      " * sqlite:///temp_db.db\n",
      "Done.\n"
     ]
    },
    {
     "data": {
      "text/html": [
       "<table>\n",
       "    <tr>\n",
       "        <th>authors</th>\n",
       "        <th>SUM(total_profit)</th>\n",
       "    </tr>\n",
       "    <tr>\n",
       "        <td>Jenna</td>\n",
       "        <td>1301142726678057.8</td>\n",
       "    </tr>\n",
       "    <tr>\n",
       "        <td>Jim</td>\n",
       "        <td>917946188412738.2</td>\n",
       "    </tr>\n",
       "    <tr>\n",
       "        <td>Tracy</td>\n",
       "        <td>141230732652221.4</td>\n",
       "    </tr>\n",
       "    <tr>\n",
       "        <td>C+C Music Factory</td>\n",
       "        <td>68581366190698.32</td>\n",
       "    </tr>\n",
       "    <tr>\n",
       "        <td>JohnWick</td>\n",
       "        <td>176765879759020.3</td>\n",
       "    </tr>\n",
       "    <tr>\n",
       "        <td>Liz Lemon</td>\n",
       "        <td>1305557098819841.0</td>\n",
       "    </tr>\n",
       "    <tr>\n",
       "        <td>Nancy</td>\n",
       "        <td>1246651355317.7036</td>\n",
       "    </tr>\n",
       "</table>"
      ],
      "text/plain": [
       "[('Jenna', 1301142726678057.8),\n",
       " ('Jim', 917946188412738.2),\n",
       " ('Tracy', 141230732652221.4),\n",
       " ('C+C Music Factory', 68581366190698.32),\n",
       " ('JohnWick', 176765879759020.3),\n",
       " ('Liz Lemon', 1305557098819841.0),\n",
       " ('Nancy', 1246651355317.7036)]"
      ]
     },
     "execution_count": 18,
     "metadata": {},
     "output_type": "execute_result"
    }
   ],
   "source": [
    "%%sql\n",
    "\n",
    "-- Create an SQL query that shows the TOP 3 most profitable authors so far!\n",
    "\n",
    "WITH books_authors AS \n",
    "( \n",
    "select *, (produced * sold * retail_price * cost ) as total_profit\n",
    "FROM books\n",
    "JOIN authors as A\n",
    "ON a.book_name = books.book_name\n",
    ")\n",
    "\n",
    "SELECT authors, SUM(total_profit)\n",
    "FROM books_authors\n",
    "GROUP BY authors\n",
    "ORDER BY total_profit DESC\n"
   ]
  },
  {
   "cell_type": "code",
   "execution_count": 19,
   "metadata": {},
   "outputs": [],
   "source": [
    "## Question #2 \n",
    "event_logs = pd.read_csv('./data/interview/SQL Interview Samples - event_log.csv')\n",
    "event_logs.to_sql(con=engine, name='event_log', if_exists='replace')\n"
   ]
  },
  {
   "cell_type": "code",
   "execution_count": 20,
   "metadata": {},
   "outputs": [
    {
     "name": "stdout",
     "output_type": "stream",
     "text": [
      " * sqlite:///temp_db.db\n",
      "Done.\n"
     ]
    },
    {
     "data": {
      "text/html": [
       "<table>\n",
       "    <tr>\n",
       "        <th>index</th>\n",
       "        <th>user_id</th>\n",
       "        <th>event_date_time</th>\n",
       "        <th>Unnamed: 2</th>\n",
       "        <th>Unnamed: 3</th>\n",
       "        <th>Unnamed: 4</th>\n",
       "        <th>Unnamed: 5</th>\n",
       "        <th>Unnamed: 6</th>\n",
       "        <th>IDs</th>\n",
       "    </tr>\n",
       "    <tr>\n",
       "        <td>0</td>\n",
       "        <td>19</td>\n",
       "        <td>1535308430</td>\n",
       "        <td>None</td>\n",
       "        <td>1.0</td>\n",
       "        <td>20.0</td>\n",
       "        <td>None</td>\n",
       "        <td>None</td>\n",
       "        <td>380617.0</td>\n",
       "    </tr>\n",
       "    <tr>\n",
       "        <td>1</td>\n",
       "        <td>16</td>\n",
       "        <td>1535308433</td>\n",
       "        <td>None</td>\n",
       "        <td>None</td>\n",
       "        <td>None</td>\n",
       "        <td>None</td>\n",
       "        <td>None</td>\n",
       "        <td>411846.0</td>\n",
       "    </tr>\n",
       "    <tr>\n",
       "        <td>2</td>\n",
       "        <td>4</td>\n",
       "        <td>1535308444</td>\n",
       "        <td>None</td>\n",
       "        <td>None</td>\n",
       "        <td>None</td>\n",
       "        <td>None</td>\n",
       "        <td>None</td>\n",
       "        <td>740186.0</td>\n",
       "    </tr>\n",
       "    <tr>\n",
       "        <td>3</td>\n",
       "        <td>3</td>\n",
       "        <td>1535308475</td>\n",
       "        <td>None</td>\n",
       "        <td>None</td>\n",
       "        <td>None</td>\n",
       "        <td>None</td>\n",
       "        <td>None</td>\n",
       "        <td>56662.0</td>\n",
       "    </tr>\n",
       "    <tr>\n",
       "        <td>4</td>\n",
       "        <td>6</td>\n",
       "        <td>1535308476</td>\n",
       "        <td>None</td>\n",
       "        <td>None</td>\n",
       "        <td>None</td>\n",
       "        <td>None</td>\n",
       "        <td>None</td>\n",
       "        <td>856186.0</td>\n",
       "    </tr>\n",
       "</table>"
      ],
      "text/plain": [
       "[(0, 19, 1535308430, None, 1.0, 20.0, None, None, 380617.0),\n",
       " (1, 16, 1535308433, None, None, None, None, None, 411846.0),\n",
       " (2, 4, 1535308444, None, None, None, None, None, 740186.0),\n",
       " (3, 3, 1535308475, None, None, None, None, None, 56662.0),\n",
       " (4, 6, 1535308476, None, None, None, None, None, 856186.0)]"
      ]
     },
     "execution_count": 20,
     "metadata": {},
     "output_type": "execute_result"
    }
   ],
   "source": [
    "%%sql\n",
    "\n",
    "select * from event_log\n",
    "LIMIT 5;"
   ]
  },
  {
   "cell_type": "code",
   "execution_count": 21,
   "metadata": {},
   "outputs": [
    {
     "name": "stdout",
     "output_type": "stream",
     "text": [
      " * sqlite:///temp_db.db\n",
      "Done.\n"
     ]
    },
    {
     "data": {
      "text/html": [
       "<table>\n",
       "    <tr>\n",
       "        <th>COUNT(*)</th>\n",
       "    </tr>\n",
       "    <tr>\n",
       "        <td>10</td>\n",
       "    </tr>\n",
       "</table>"
      ],
      "text/plain": [
       "[(10,)]"
      ]
     },
     "execution_count": 21,
     "metadata": {},
     "output_type": "execute_result"
    }
   ],
   "source": [
    "%%sql\n",
    "\n",
    "/*\n",
    "    Write an SQL query to find out how many users inserted \n",
    "    more than 500 but less than 525 images in their presentations!\n",
    "    first get the count by user ( from subquery ) then get count \n",
    "*/\n",
    "\n",
    "select COUNT(*)\n",
    "FROM\n",
    "(select COUNT(*) as count_slides, user_id\n",
    "from event_log\n",
    "GROUP BY user_id)\n",
    "WHERE count_slides >= 500 AND count_slides <= 525"
   ]
  },
  {
   "cell_type": "code",
   "execution_count": 22,
   "metadata": {},
   "outputs": [],
   "source": [
    "# question 3\n",
    "\n",
    "# print out each department where average salary is is under 85k\n",
    "\n",
    "# load data into tables as is \n",
    "salaries = pd.read_csv('./data/interview/SQL Interview Samples - salaries.csv')\n",
    "salaries.to_sql(con=engine, name='salaries', if_exists='replace')\n",
    "\n",
    "employees = pd.read_csv('./data/interview/SQL Interview Samples - employees.csv')\n",
    "employees.to_sql(con=engine, name='employees', if_exists='replace')\n"
   ]
  },
  {
   "cell_type": "code",
   "execution_count": 28,
   "metadata": {},
   "outputs": [
    {
     "name": "stdout",
     "output_type": "stream",
     "text": [
      " * sqlite:///temp_db.db\n",
      "Done.\n"
     ]
    },
    {
     "data": {
      "text/html": [
       "<table>\n",
       "    <tr>\n",
       "        <th>department_name</th>\n",
       "        <th>avg_salary</th>\n",
       "    </tr>\n",
       "    <tr>\n",
       "        <td>Creative</td>\n",
       "        <td>83871.2</td>\n",
       "    </tr>\n",
       "    <tr>\n",
       "        <td>Marketing</td>\n",
       "        <td>80376.72727272728</td>\n",
       "    </tr>\n",
       "    <tr>\n",
       "        <td>Sales</td>\n",
       "        <td>80101.64285714286</td>\n",
       "    </tr>\n",
       "</table>"
      ],
      "text/plain": [
       "[('Creative', 83871.2),\n",
       " ('Marketing', 80376.72727272728),\n",
       " ('Sales', 80101.64285714286)]"
      ]
     },
     "execution_count": 28,
     "metadata": {},
     "output_type": "execute_result"
    }
   ],
   "source": [
    "%%sql\n",
    "\n",
    "SELECT department_name, AVG(salaries) as avg_salary\n",
    "FROM salaries\n",
    "JOIN employees\n",
    "ON salaries.employee_id = employees.employee_id\n",
    "GROUP BY department_name\n",
    "HAVING avg_salary < 85000"
   ]
  },
  {
   "cell_type": "code",
   "execution_count": null,
   "metadata": {},
   "outputs": [],
   "source": []
  }
 ],
 "metadata": {
  "kernelspec": {
   "display_name": "Python 3",
   "language": "python",
   "name": "python3"
  },
  "language_info": {
   "codemirror_mode": {
    "name": "ipython",
    "version": 3
   },
   "file_extension": ".py",
   "mimetype": "text/x-python",
   "name": "python",
   "nbconvert_exporter": "python",
   "pygments_lexer": "ipython3",
   "version": "3.7.3"
  }
 },
 "nbformat": 4,
 "nbformat_minor": 2
}
